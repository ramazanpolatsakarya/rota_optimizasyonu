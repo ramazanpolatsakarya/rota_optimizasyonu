{
 "cells": [
  {
   "cell_type": "code",
   "execution_count": 1,
   "metadata": {},
   "outputs": [
    {
     "name": "stdout",
     "output_type": "stream",
     "text": [
      "d:\\Masaustu2\\osman makale\\route-finder-main\n",
      "d:\\Masaustu2\\osman makale\\route-finder-main\\src\n"
     ]
    },
    {
     "name": "stderr",
     "output_type": "stream",
     "text": [
      "C:\\Users\\ramaz\\AppData\\Roaming\\Python\\Python39\\site-packages\\IPython\\core\\magics\\osm.py:417: UserWarning: using dhist requires you to install the `pickleshare` library.\n",
      "  self.shell.db['dhist'] = compress_dhist(dhist)[-100:]\n"
     ]
    }
   ],
   "source": [
    "import os\n",
    "\n",
    "\n",
    "HOME = os.getcwd()\n",
    "print(HOME)\n",
    "\n",
    "%cd {HOME}/src"
   ]
  },
  {
   "cell_type": "code",
   "execution_count": 2,
   "metadata": {},
   "outputs": [
    {
     "name": "stdout",
     "output_type": "stream",
     "text": [
      "reading csv file\n",
      "   Name  Yer   Latitude  Longitude\n",
      "0    K1   K1  33.353644  36.791364\n",
      "1    K2   K2  34.893473  36.919087\n",
      "2    K3   K3  32.895462  36.081527\n",
      "3    K4   K4  33.931068  36.363274\n",
      "4    K5   K5  34.797013  36.957708\n",
      "5    K6   K6  34.180808  36.524453\n",
      "6    K7   K7  34.105868  36.452062\n",
      "7    K8   K8  34.151601  36.463567\n",
      "8    K9   K9  34.120809  36.483408\n",
      "9   K10  K10  34.173763  36.483552\n",
      "10  K11  K11  33.321928  36.144322\n",
      "11  K12  K12  33.925887  36.589661\n",
      "12  K13  K13  32.802886  36.023987\n",
      "13  K14  K14  34.113424  36.443759\n",
      "14  K15  K15  34.538907  36.743208\n",
      "15  K16  K16  34.742805  37.293401\n",
      "16  K17  K17  33.981341  36.290446\n"
     ]
    }
   ],
   "source": [
    "\n",
    "import ga.ga_tsp as ga_tsp\n",
    "\n",
    "\n",
    "fileName= \"D:/Masaustu2/osman makale/route-finder-main/points.csv\"\n",
    "\n",
    "tsp = ga_tsp.GA_TSP(\n",
    "                data_path=fileName,\n",
    "            )\n"
   ]
  },
  {
   "cell_type": "code",
   "execution_count": 3,
   "metadata": {},
   "outputs": [],
   "source": [
    "pop_size = 100\n",
    "childrensize = 10\n",
    "maxgeneration = 200\n",
    "mutationpercent = 0.01\n",
    "start = 0\n",
    "stop = 1\n",
    "\n",
    "tsp.set_problem(\n",
    "                pop_size=pop_size,\n",
    "                number_of_children=childrensize,\n",
    "                max_generation=maxgeneration,\n",
    "                mutation_percent=mutationpercent, \n",
    "                start=start,\n",
    "                stop=stop\n",
    "            )\n",
    "\n",
    "tsp.start_ga()\n"
   ]
  },
  {
   "cell_type": "code",
   "execution_count": 6,
   "metadata": {},
   "outputs": [
    {
     "name": "stdout",
     "output_type": "stream",
     "text": [
      "439.43598322294014\n"
     ]
    }
   ],
   "source": [
    "# 100 439.76674762070104\n",
    "# 200 439.43598322294014\n",
    "print(tsp.population.best_distance)"
   ]
  },
  {
   "cell_type": "code",
   "execution_count": 5,
   "metadata": {},
   "outputs": [
    {
     "name": "stdout",
     "output_type": "stream",
     "text": [
      "[13, 3, 11, 17, 4, 12, 7, 14, 9, 8, 10, 6, 15, 16, 5]\n"
     ]
    }
   ],
   "source": [
    "print(tsp.population.best_route.sequence)"
   ]
  }
 ],
 "metadata": {
  "kernelspec": {
   "display_name": "Python 3",
   "language": "python",
   "name": "python3"
  },
  "language_info": {
   "codemirror_mode": {
    "name": "ipython",
    "version": 3
   },
   "file_extension": ".py",
   "mimetype": "text/x-python",
   "name": "python",
   "nbconvert_exporter": "python",
   "pygments_lexer": "ipython3",
   "version": "3.9.0"
  }
 },
 "nbformat": 4,
 "nbformat_minor": 2
}
